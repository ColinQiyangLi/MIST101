{
 "cells": [
  {
   "cell_type": "markdown",
   "metadata": {},
   "source": [
    "# MIST101 Pratical 2: Introduction to Tensorflow (MNIST)"
   ]
  },
  {
   "cell_type": "markdown",
   "metadata": {},
   "source": [
    "Welcome to the first tutorial of MIST101. The goal of this tutorial is to show how to use Tensorflow to train and evaluate a simple neural network for handwritten digit classification using the MNIST data set."
   ]
  },
  {
   "cell_type": "markdown",
   "metadata": {},
   "source": [
    "## Visualize the Data"
   ]
  },
  {
   "cell_type": "code",
   "execution_count": 1,
   "metadata": {
    "collapsed": false
   },
   "outputs": [],
   "source": [
    "import tensorflow as tf\n",
    "import numpy as np\n",
    "import matplotlib.pyplot as plt\n",
    "from tensorflow.examples.tutorials.mnist import input_data # For tutorial purpose, we directly get the data set from tensorflow\n",
    "from tensorflow.examples.tutorials.mnist import mnist   \n",
    "%matplotlib inline"
   ]
  },
  {
   "cell_type": "markdown",
   "metadata": {},
   "source": [
    "Download the data and save them into a folder"
   ]
  },
  {
   "cell_type": "code",
   "execution_count": 5,
   "metadata": {
    "collapsed": false
   },
   "outputs": [
    {
     "name": "stdout",
     "output_type": "stream",
     "text": [
      "Extracting MNIST_data/train-images-idx3-ubyte.gz\n",
      "Extracting MNIST_data/train-labels-idx1-ubyte.gz\n",
      "Extracting MNIST_data/t10k-images-idx3-ubyte.gz\n",
      "Extracting MNIST_data/t10k-labels-idx1-ubyte.gz\n"
     ]
    }
   ],
   "source": [
    "data_sets = input_data.read_data_sets(\"MNIST_data/\", one_hot = True)"
   ]
  },
  {
   "cell_type": "markdown",
   "metadata": {},
   "source": [
    "To visualize what the data look like, we can randomly pick an image input and label from the data set."
   ]
  },
  {
   "cell_type": "code",
   "execution_count": 6,
   "metadata": {
    "collapsed": false
   },
   "outputs": [],
   "source": [
    "# Random pick a image-label pair from the dataset\n",
    "random_index = np.random.randint(len(data_sets.train.images))\n",
    "image_example = data_sets.train.images[random_index]\n",
    "label_example = data_sets.train.labels[random_index]"
   ]
  },
  {
   "cell_type": "markdown",
   "metadata": {},
   "source": [
    "We can see the image input is a vector (size: 768 = 28 * 28), representing the grey scale of each pixel of the image. The label is another vector (size: 10), indicating which number the image corresponds to. "
   ]
  },
  {
   "cell_type": "code",
   "execution_count": 7,
   "metadata": {
    "collapsed": false
   },
   "outputs": [
    {
     "data": {
      "text/plain": [
       "array([ 0.        ,  0.        ,  0.        ,  0.        ,  0.        ,\n",
       "        0.        ,  0.        ,  0.        ,  0.        ,  0.        ,\n",
       "        0.        ,  0.        ,  0.        ,  0.        ,  0.        ,\n",
       "        0.        ,  0.        ,  0.        ,  0.        ,  0.        ,\n",
       "        0.        ,  0.        ,  0.        ,  0.        ,  0.        ,\n",
       "        0.        ,  0.        ,  0.        ,  0.        ,  0.        ,\n",
       "        0.        ,  0.        ,  0.        ,  0.        ,  0.        ,\n",
       "        0.        ,  0.        ,  0.        ,  0.        ,  0.        ,\n",
       "        0.        ,  0.        ,  0.        ,  0.        ,  0.        ,\n",
       "        0.        ,  0.        ,  0.        ,  0.        ,  0.        ,\n",
       "        0.        ,  0.        ,  0.        ,  0.        ,  0.        ,\n",
       "        0.        ,  0.        ,  0.        ,  0.        ,  0.        ,\n",
       "        0.        ,  0.        ,  0.        ,  0.        ,  0.        ,\n",
       "        0.        ,  0.        ,  0.        ,  0.        ,  0.        ,\n",
       "        0.        ,  0.        ,  0.        ,  0.        ,  0.        ,\n",
       "        0.        ,  0.        ,  0.        ,  0.        ,  0.        ,\n",
       "        0.        ,  0.        ,  0.        ,  0.        ,  0.        ,\n",
       "        0.        ,  0.        ,  0.        ,  0.        ,  0.        ,\n",
       "        0.        ,  0.        ,  0.        ,  0.        ,  0.        ,\n",
       "        0.        ,  0.        ,  0.        ,  0.        ,  0.        ,\n",
       "        0.        ,  0.        ,  0.        ,  0.        ,  0.        ,\n",
       "        0.        ,  0.        ,  0.        ,  0.        ,  0.        ,\n",
       "        0.        ,  0.        ,  0.        ,  0.        ,  0.        ,\n",
       "        0.        ,  0.        ,  0.        ,  0.        ,  0.        ,\n",
       "        0.        ,  0.        ,  0.        ,  0.        ,  0.        ,\n",
       "        0.        ,  0.        ,  0.        ,  0.        ,  0.        ,\n",
       "        0.        ,  0.        ,  0.        ,  0.00784314,  0.47058827,\n",
       "        0.99215692,  0.12941177,  0.        ,  0.        ,  0.        ,\n",
       "        0.        ,  0.        ,  0.        ,  0.        ,  0.        ,\n",
       "        0.        ,  0.        ,  0.        ,  0.        ,  0.        ,\n",
       "        0.        ,  0.        ,  0.        ,  0.        ,  0.        ,\n",
       "        0.        ,  0.        ,  0.        ,  0.        ,  0.        ,\n",
       "        0.        ,  0.34901962,  0.98823535,  0.90980399,  0.09411766,\n",
       "        0.        ,  0.        ,  0.        ,  0.        ,  0.        ,\n",
       "        0.        ,  0.        ,  0.        ,  0.        ,  0.        ,\n",
       "        0.        ,  0.        ,  0.08627451,  0.3921569 ,  0.03529412,\n",
       "        0.        ,  0.        ,  0.        ,  0.        ,  0.        ,\n",
       "        0.        ,  0.        ,  0.        ,  0.        ,  0.83529419,\n",
       "        0.98823535,  0.51764709,  0.        ,  0.        ,  0.        ,\n",
       "        0.        ,  0.        ,  0.        ,  0.        ,  0.        ,\n",
       "        0.        ,  0.        ,  0.        ,  0.        ,  0.        ,\n",
       "        0.21960786,  0.98823535,  0.08235294,  0.        ,  0.        ,\n",
       "        0.        ,  0.        ,  0.        ,  0.        ,  0.        ,\n",
       "        0.        ,  0.55686277,  0.98431379,  0.89803928,  0.1254902 ,\n",
       "        0.        ,  0.        ,  0.        ,  0.        ,  0.        ,\n",
       "        0.        ,  0.        ,  0.        ,  0.        ,  0.        ,\n",
       "        0.        ,  0.        ,  0.01960784,  0.57254905,  0.98823535,\n",
       "        0.08235294,  0.        ,  0.        ,  0.        ,  0.        ,\n",
       "        0.        ,  0.        ,  0.        ,  0.2392157 ,  0.91764712,\n",
       "        0.98823535,  0.53333336,  0.        ,  0.        ,  0.        ,\n",
       "        0.        ,  0.        ,  0.        ,  0.        ,  0.        ,\n",
       "        0.        ,  0.        ,  0.        ,  0.        ,  0.        ,\n",
       "        0.57647061,  0.98823535,  0.98823535,  0.08235294,  0.        ,\n",
       "        0.        ,  0.        ,  0.        ,  0.        ,  0.        ,\n",
       "        0.07058824,  0.91764712,  0.98823535,  0.80392164,  0.08627451,\n",
       "        0.        ,  0.        ,  0.        ,  0.        ,  0.        ,\n",
       "        0.        ,  0.        ,  0.        ,  0.        ,  0.        ,\n",
       "        0.        ,  0.        ,  0.20784315,  0.96862751,  0.98823535,\n",
       "        0.80392164,  0.04313726,  0.        ,  0.        ,  0.        ,\n",
       "        0.        ,  0.        ,  0.        ,  0.3137255 ,  0.98823535,\n",
       "        0.97254908,  0.30588236,  0.        ,  0.        ,  0.        ,\n",
       "        0.        ,  0.        ,  0.        ,  0.        ,  0.        ,\n",
       "        0.        ,  0.        ,  0.        ,  0.        ,  0.04705883,\n",
       "        0.85098046,  0.98823535,  0.8588236 ,  0.08627451,  0.        ,\n",
       "        0.        ,  0.        ,  0.        ,  0.        ,  0.        ,\n",
       "        0.2392157 ,  0.97254908,  0.98823535,  0.38039219,  0.        ,\n",
       "        0.        ,  0.        ,  0.        ,  0.        ,  0.        ,\n",
       "        0.        ,  0.        ,  0.        ,  0.        ,  0.        ,\n",
       "        0.        ,  0.        ,  0.3921569 ,  0.98823535,  0.98823535,\n",
       "        0.63921571,  0.        ,  0.        ,  0.        ,  0.        ,\n",
       "        0.        ,  0.        ,  0.08235294,  0.76078439,  0.98823535,\n",
       "        0.82745105,  0.05490196,  0.        ,  0.        ,  0.        ,\n",
       "        0.        ,  0.        ,  0.        ,  0.        ,  0.        ,\n",
       "        0.        ,  0.        ,  0.        ,  0.        ,  0.1137255 ,\n",
       "        0.95294124,  0.98823535,  0.98823535,  0.62352943,  0.43529415,\n",
       "        0.03921569,  0.        ,  0.        ,  0.        ,  0.        ,\n",
       "        0.63529414,  0.98823535,  0.95294124,  0.25098041,  0.        ,\n",
       "        0.21176472,  0.43529415,  0.3019608 ,  0.        ,  0.        ,\n",
       "        0.        ,  0.        ,  0.        ,  0.        ,  0.        ,\n",
       "        0.        ,  0.        ,  0.37647063,  0.99215692,  0.99215692,\n",
       "        0.99215692,  0.99215692,  0.99215692,  0.99215692,  0.99215692,\n",
       "        0.99215692,  0.99215692,  1.        ,  0.99215692,  0.99215692,\n",
       "        0.99215692,  0.99215692,  0.99215692,  0.99215692,  0.99215692,\n",
       "        0.99215692,  0.12941177,  0.        ,  0.        ,  0.        ,\n",
       "        0.        ,  0.        ,  0.        ,  0.        ,  0.        ,\n",
       "        0.227451  ,  0.90980399,  0.98823535,  0.98823535,  0.98823535,\n",
       "        0.98823535,  0.98823535,  0.98823535,  0.98823535,  0.98823535,\n",
       "        0.99215692,  0.98823535,  0.98823535,  0.98823535,  0.98823535,\n",
       "        0.98823535,  0.98823535,  0.9450981 ,  0.72941178,  0.09411766,\n",
       "        0.        ,  0.        ,  0.        ,  0.        ,  0.        ,\n",
       "        0.        ,  0.        ,  0.        ,  0.        ,  0.12156864,\n",
       "        0.17254902,  0.17254902,  0.17254902,  0.17254902,  0.17254902,\n",
       "        0.17254902,  0.77647066,  0.98823535,  0.99215692,  0.71764708,\n",
       "        0.24313727,  0.17254902,  0.17254902,  0.17254902,  0.17254902,\n",
       "        0.14117648,  0.        ,  0.        ,  0.        ,  0.        ,\n",
       "        0.        ,  0.        ,  0.        ,  0.        ,  0.        ,\n",
       "        0.        ,  0.        ,  0.        ,  0.        ,  0.        ,\n",
       "        0.        ,  0.        ,  0.        ,  0.39607847,  0.98039222,\n",
       "        0.98823535,  0.88627458,  0.14509805,  0.        ,  0.        ,\n",
       "        0.        ,  0.        ,  0.        ,  0.        ,  0.        ,\n",
       "        0.        ,  0.        ,  0.        ,  0.        ,  0.        ,\n",
       "        0.        ,  0.        ,  0.        ,  0.        ,  0.        ,\n",
       "        0.        ,  0.        ,  0.        ,  0.        ,  0.        ,\n",
       "        0.1254902 ,  0.85490203,  0.98823535,  0.98823535,  0.15294118,\n",
       "        0.        ,  0.        ,  0.        ,  0.        ,  0.        ,\n",
       "        0.        ,  0.        ,  0.        ,  0.        ,  0.        ,\n",
       "        0.        ,  0.        ,  0.        ,  0.        ,  0.        ,\n",
       "        0.        ,  0.        ,  0.        ,  0.        ,  0.        ,\n",
       "        0.        ,  0.        ,  0.        ,  0.81568635,  0.98823535,\n",
       "        0.88235301,  0.27058825,  0.        ,  0.        ,  0.        ,\n",
       "        0.        ,  0.        ,  0.        ,  0.        ,  0.        ,\n",
       "        0.        ,  0.        ,  0.        ,  0.        ,  0.        ,\n",
       "        0.        ,  0.        ,  0.        ,  0.        ,  0.        ,\n",
       "        0.        ,  0.        ,  0.        ,  0.        ,  0.01176471,\n",
       "        0.53333336,  0.98431379,  0.98039222,  0.47058827,  0.        ,\n",
       "        0.        ,  0.        ,  0.        ,  0.        ,  0.        ,\n",
       "        0.        ,  0.        ,  0.        ,  0.        ,  0.        ,\n",
       "        0.        ,  0.        ,  0.        ,  0.        ,  0.        ,\n",
       "        0.        ,  0.        ,  0.        ,  0.        ,  0.        ,\n",
       "        0.        ,  0.        ,  0.21960786,  0.98823535,  0.98823535,\n",
       "        0.5529412 ,  0.        ,  0.        ,  0.        ,  0.        ,\n",
       "        0.        ,  0.        ,  0.        ,  0.        ,  0.        ,\n",
       "        0.        ,  0.        ,  0.        ,  0.        ,  0.        ,\n",
       "        0.        ,  0.        ,  0.        ,  0.        ,  0.        ,\n",
       "        0.        ,  0.        ,  0.        ,  0.        ,  0.        ,\n",
       "        0.21960786,  0.98823535,  0.98823535,  0.38823533,  0.        ,\n",
       "        0.        ,  0.        ,  0.        ,  0.        ,  0.        ,\n",
       "        0.        ,  0.        ,  0.        ,  0.        ,  0.        ,\n",
       "        0.        ,  0.        ,  0.        ,  0.        ,  0.        ,\n",
       "        0.        ,  0.        ,  0.        ,  0.        ,  0.        ,\n",
       "        0.        ,  0.        ,  0.        ,  0.21960786,  0.98823535,\n",
       "        0.96862751,  0.21960786,  0.        ,  0.        ,  0.        ,\n",
       "        0.        ,  0.        ,  0.        ,  0.        ,  0.        ,\n",
       "        0.        ,  0.        ,  0.        ,  0.        ,  0.        ,\n",
       "        0.        ,  0.        ,  0.        ,  0.        ,  0.        ,\n",
       "        0.        ,  0.        ,  0.        ,  0.        ,  0.        ,\n",
       "        0.        ,  0.        ,  0.        ,  0.        ,  0.        ,\n",
       "        0.        ,  0.        ,  0.        ,  0.        ,  0.        ,\n",
       "        0.        ,  0.        ,  0.        ,  0.        ,  0.        ,\n",
       "        0.        ,  0.        ,  0.        ,  0.        ,  0.        ,\n",
       "        0.        ,  0.        ,  0.        ,  0.        ,  0.        ,\n",
       "        0.        ,  0.        ,  0.        ,  0.        ,  0.        ,\n",
       "        0.        ,  0.        ,  0.        ,  0.        ,  0.        ,\n",
       "        0.        ,  0.        ,  0.        ,  0.        ,  0.        ,\n",
       "        0.        ,  0.        ,  0.        ,  0.        ,  0.        ,\n",
       "        0.        ,  0.        ,  0.        ,  0.        ,  0.        ,\n",
       "        0.        ,  0.        ,  0.        ,  0.        ,  0.        ,\n",
       "        0.        ,  0.        ,  0.        ,  0.        ,  0.        ,\n",
       "        0.        ,  0.        ,  0.        ,  0.        ,  0.        ,\n",
       "        0.        ,  0.        ,  0.        ,  0.        ,  0.        ,\n",
       "        0.        ,  0.        ,  0.        ,  0.        ,  0.        ,\n",
       "        0.        ,  0.        ,  0.        ,  0.        ,  0.        ,\n",
       "        0.        ,  0.        ,  0.        ,  0.        ,  0.        ,\n",
       "        0.        ,  0.        ,  0.        ,  0.        ,  0.        ,\n",
       "        0.        ,  0.        ,  0.        ,  0.        ,  0.        ,\n",
       "        0.        ,  0.        ,  0.        ,  0.        ,  0.        ,\n",
       "        0.        ,  0.        ,  0.        ,  0.        ], dtype=float32)"
      ]
     },
     "execution_count": 7,
     "metadata": {},
     "output_type": "execute_result"
    }
   ],
   "source": [
    "# Image is stored as an array like object\n",
    "image_example"
   ]
  },
  {
   "cell_type": "code",
   "execution_count": 10,
   "metadata": {
    "collapsed": false
   },
   "outputs": [
    {
     "data": {
      "text/plain": [
       "array([ 0.,  0.,  0.,  0.,  1.,  0.,  0.,  0.,  0.,  0.])"
      ]
     },
     "execution_count": 10,
     "metadata": {},
     "output_type": "execute_result"
    }
   ],
   "source": [
    "# Label is represented in one-hot\n",
    "label_example"
   ]
  },
  {
   "cell_type": "markdown",
   "metadata": {},
   "source": [
    "To better visualize the data, we show a graphics of the image."
   ]
  },
  {
   "cell_type": "code",
   "execution_count": 11,
   "metadata": {
    "collapsed": false
   },
   "outputs": [
    {
     "data": {
      "image/png": "[encoded data removed]",
      "text/plain": [
       "<matplotlib.figure.Figure at 0x1f8c80f5438>"
      ]
     },
     "metadata": {},
     "output_type": "display_data"
    }
   ],
   "source": [
    "# Reshape the image array into a pixel matrix\n",
    "image_example_pixels = image_example.reshape((28, 28))\n",
    "\n",
    "# Show the image\n",
    "plt.title('Label is {label}'.format(label = label_example))\n",
    "plt.imshow(image_example_pixels, cmap='gray')\n",
    "plt.show()"
   ]
  },
  {
   "cell_type": "markdown",
   "metadata": {},
   "source": [
    "## Create a model"
   ]
  },
  {
   "cell_type": "markdown",
   "metadata": {},
   "source": [
    "Now, we are going to create a linear model that predicts from image to the number categories. The model needs the image input to predict its category. During trianing, the model also needs the correct label of the image input to it. Therefore, we create two placeholders for the model.\n",
    "\n",
    "Notice that we have to specify the shape and the data type of the tensor. For this tutorial, we use stochastic gradient descent. It means that for each training iteration, we want a small batch of data from the data set (a batch of image-label pairs)."
   ]
  },
  {
   "cell_type": "code",
   "execution_count": 12,
   "metadata": {
    "collapsed": false
   },
   "outputs": [],
   "source": [
    "batch_size = 100\n",
    "image_size = 28 * 28\n",
    "category_size = 10\n",
    "\n",
    "# Create a placeholder that has the type of float32 and shape of (batch_size, image_size)\n",
    "images_placeholder = tf.placeholder(tf.float32, shape = (batch_size, image_size))\n",
    "label_placeholder = tf.placeholder(tf.int32, shape = (batch_size, category_size))"
   ]
  },
  {
   "cell_type": "markdown",
   "metadata": {},
   "source": [
    "A simple linear model can be represented as $y = Wx + b$ where $x$, $y$ are the input vector and output vector of the model respectively. The trainable parameters include $W$ (the weight matrix) and $b$ (the bias vector)."
   ]
  },
  {
   "cell_type": "code",
   "execution_count": 13,
   "metadata": {
    "collapsed": false
   },
   "outputs": [],
   "source": [
    "weights = tf.Variable(tf.zeros(shape = [image_size, category_size])) # The weight matrix\n",
    "biases = tf.Variable(tf.zeros(shape = [category_size]))              # The bias vector\n",
    "output = tf.matmul(images_placeholder, weights) + biases             # The output of the model\n",
    "predict = tf.nn.softmax(output)                                      # Transform the output into a proability distribution over 10 categories"
   ]
  },
  {
   "cell_type": "markdown",
   "metadata": {},
   "source": [
    "## Train the Model\n",
    "After finishing building the model, we can start to train our model. Recall that the learning target for a classification problem is usually the cross entropy between the predicted distribution and true distribution. "
   ]
  },
  {
   "cell_type": "code",
   "execution_count": 14,
   "metadata": {
    "collapsed": true
   },
   "outputs": [],
   "source": [
    "# Define the learning target as the cross entropy of the predictions and the labels\n",
    "cross_entropy = tf.reduce_mean(tf.nn.softmax_cross_entropy_with_logits(logits = output, labels = label_placeholder))\n",
    "\n",
    "# Define a training step to minimize the cross entropy with gradient descent algorithm\n",
    "train_step = tf.train.GradientDescentOptimizer(0.5).minimize(cross_entropy)"
   ]
  },
  {
   "cell_type": "markdown",
   "metadata": {},
   "source": [
    "To run any op in Tensorflow, we need to first create a session and initialize all the variables defined. "
   ]
  },
  {
   "cell_type": "code",
   "execution_count": 15,
   "metadata": {
    "collapsed": false
   },
   "outputs": [],
   "source": [
    "sess = tf.InteractiveSession()\n",
    "tf.global_variables_initializer().run()"
   ]
  },
  {
   "cell_type": "markdown",
   "metadata": {},
   "source": [
    "Now, we can start training. For each training iteration, we give the model a mini batch of images and labels and perform a training step (performing gradient descent to minimize the cross entropy)."
   ]
  },
  {
   "cell_type": "code",
   "execution_count": 16,
   "metadata": {
    "collapsed": false
   },
   "outputs": [],
   "source": [
    "for step in range(1000):\n",
    "    batch_images, batch_labels = data_sets.train.next_batch(batch_size)   # Get a mini batch of images and labels\n",
    "    sess.run(train_step, feed_dict = {images_placeholder : batch_images,  # Perform a training step\n",
    "                                      label_placeholder : batch_labels})"
   ]
  },
  {
   "cell_type": "markdown",
   "metadata": {},
   "source": [
    "## Evaluate the Model\n",
    "After 1000 iterations, the model should be well-trained now. We can evaluate our model using the pairs of images and labels from the test set."
   ]
  },
  {
   "cell_type": "code",
   "execution_count": 17,
   "metadata": {
    "collapsed": false
   },
   "outputs": [],
   "source": [
    "# Create ops for prediction accuracy\n",
    "correct_prediction = tf.equal(tf.argmax(label_placeholder, 1), tf.argmax(predict, 1)) \n",
    "accuracy = tf.reduce_mean(tf.cast(correct_prediction, tf.float32))"
   ]
  },
  {
   "cell_type": "code",
   "execution_count": 18,
   "metadata": {
    "collapsed": false
   },
   "outputs": [
    {
     "name": "stdout",
     "output_type": "stream",
     "text": [
      "Prediction Accuracy: 0.96\n"
     ]
    }
   ],
   "source": [
    "# Retreive test data\n",
    "test_images = data_sets.test.images[:batch_size]\n",
    "test_labels = data_sets.test.labels[:batch_size]\n",
    "\n",
    "# Evaluate the model\n",
    "print(\"Prediction Accuracy: \" + str(sess.run(accuracy, feed_dict = {images_placeholder : test_images,\n",
    "                                      label_placeholder : test_labels})))"
   ]
  },
  {
   "cell_type": "markdown",
   "metadata": {},
   "source": [
    "## Advance Usage\n",
    "In this section, we demonstrate a more flexible and complex model to improve the prediction accuracy"
   ]
  },
  {
   "cell_type": "code",
   "execution_count": 19,
   "metadata": {
    "collapsed": false
   },
   "outputs": [
    {
     "name": "stdout",
     "output_type": "stream",
     "text": [
      "Step 0: loss = 2.33\n",
      "Step 100: loss = 0.34\n",
      "Step 200: loss = 0.12\n",
      "Step 300: loss = 0.30\n",
      "Step 400: loss = 0.12\n",
      "Step 500: loss = 0.18\n",
      "Step 600: loss = 0.28\n",
      "Step 700: loss = 0.11\n",
      "Step 800: loss = 0.13\n",
      "Step 900: loss = 0.13\n",
      "Step 1000: loss = 0.08\n",
      "Step 1100: loss = 0.15\n",
      "Step 1200: loss = 0.08\n",
      "Step 1300: loss = 0.04\n",
      "Step 1400: loss = 0.04\n",
      "Step 1500: loss = 0.13\n",
      "Step 1600: loss = 0.05\n",
      "Step 1700: loss = 0.13\n",
      "Step 1800: loss = 0.01\n",
      "Step 1900: loss = 0.06\n",
      "Prediction Accuracy: 0.9691\n"
     ]
    }
   ],
   "source": [
    "batch_size = 100\n",
    "image_size = 28 * 28\n",
    "category_size = 10\n",
    "images_placeholder = tf.placeholder(tf.float32, shape = (None, image_size))   # We can put \"None\" to make the size of the tensor flexible (batch size is variable)\n",
    "label_placeholder = tf.placeholder(tf.int32, shape = (None, category_size)) \n",
    "\n",
    "hidden_units = 128\n",
    "weights1 = tf.Variable(tf.truncated_normal(shape = [image_size, hidden_units], stddev = 0.1))    # The weight matrix from image input to the first hidden layer\n",
    "weights2 = tf.Variable(tf.truncated_normal(shape = [hidden_units, hidden_units], stddev = 0.1))  # The weight matrix from first to second hidden layer\n",
    "weights3 = tf.Variable(tf.truncated_normal(shape = [hidden_units, category_size], stddev = 0.1)) # The weight matrix from second hidden layer to the output\n",
    "\n",
    "biases1 = tf.Variable(tf.zeros(shape = [hidden_units]))              # The bias vectors\n",
    "biases2 = tf.Variable(tf.zeros(shape = [hidden_units]))              \n",
    "biases3 = tf.Variable(tf.zeros(shape = [category_size]))              \n",
    "\n",
    "hidden1 = tf.nn.relu(tf.matmul(images_placeholder, weights1) + biases1)\n",
    "hidden2 = tf.nn.relu(tf.matmul(hidden1, weights2) + biases2)\n",
    "output = tf.matmul(hidden2, weights3) + biases3            # The output of the model\n",
    "predict = tf.nn.softmax(output)     \n",
    "\n",
    "cross_entropy = tf.reduce_mean(tf.nn.softmax_cross_entropy_with_logits(logits = output, labels = label_placeholder))\n",
    "train_step = tf.train.GradientDescentOptimizer(0.5).minimize(cross_entropy)\n",
    "\n",
    "sess = tf.InteractiveSession()\n",
    "tf.global_variables_initializer().run()\n",
    "\n",
    "for step in range(2000):\n",
    "    batch_images, batch_labels = data_sets.train.next_batch(batch_size)                                    # Get a mini batch of images and labels\n",
    "    _, loss_value = sess.run([train_step, cross_entropy], feed_dict = {images_placeholder : batch_images,  # Perform a training step\n",
    "                                                                       label_placeholder : batch_labels})\n",
    "    \n",
    "    # Display\n",
    "    if step % 100 == 0:\n",
    "        print('Step %d: loss = %.2f' % (step, loss_value))\n",
    "\n",
    "correct_prediction = tf.equal(tf.argmax(label_placeholder, 1), tf.argmax(predict, 1)) \n",
    "accuracy = tf.reduce_mean(tf.cast(correct_prediction, tf.float32))\n",
    "\n",
    "# Evaluate the model\n",
    "print(\"Prediction Accuracy: \" + str(sess.run(accuracy, feed_dict = {images_placeholder : data_sets.test.images,\n",
    "                                                                    label_placeholder : data_sets.test.labels})))"
   ]
  },
  {
   "cell_type": "markdown",
   "metadata": {
    "collapsed": true
   },
   "source": [
    "*This tutorial is modified from https://www.tensorflow.org/get_started/*"
   ]
  }
 ],
 "metadata": {
  "anaconda-cloud": {},
  "kernelspec": {
   "display_name": "Python [conda env:tensorflow]",
   "language": "python",
   "name": "conda-env-tensorflow-py"
  },
  "language_info": {
   "codemirror_mode": {
    "name": "ipython",
    "version": 3
   },
   "file_extension": ".py",
   "mimetype": "text/x-python",
   "name": "python",
   "nbconvert_exporter": "python",
   "pygments_lexer": "ipython3",
   "version": "3.5.2"
  }
 },
 "nbformat": 4,
 "nbformat_minor": 1
}
